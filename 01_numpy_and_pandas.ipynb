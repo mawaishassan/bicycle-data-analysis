{
  "cells": [
    {
      "cell_type": "markdown",
      "metadata": {
        "id": "view-in-github",
        "colab_type": "text"
      },
      "source": [
        "<a href=\"https://colab.research.google.com/github/resonotech/bicycle-data-analysis/blob/main/01_numpy_and_pandas.ipynb\" target=\"_parent\"><img src=\"https://colab.research.google.com/assets/colab-badge.svg\" alt=\"Open In Colab\"/></a>"
      ]
    },
    {
      "cell_type": "markdown",
      "source": [
        "# Exploring Data with Python"
      ],
      "metadata": {
        "id": "5nAofyzmK8BX"
      }
    },
    {
      "cell_type": "code",
      "source": [
        "data = [50,50,47,97,49,3,53,42,26,74,82,62,37,15,70,27,36,35,48,52,63,64]\n",
        "print(data)"
      ],
      "outputs": [],
      "execution_count": null,
      "metadata": {
        "tags": [],
        "id": "D_scoVafK8Ba"
      }
    },
    {
      "cell_type": "code",
      "source": [
        "import numpy as np\n",
        "\n",
        "grades = np.array(data)\n",
        "print(grades)"
      ],
      "outputs": [],
      "execution_count": null,
      "metadata": {
        "tags": [],
        "id": "4Ida-Q4-K8Bc"
      }
    },
    {
      "cell_type": "code",
      "source": [
        "print (type(data),'x 2:', data * 2)\n",
        "print('---')\n",
        "print (type(grades),'x 2:', grades * 2)"
      ],
      "outputs": [],
      "execution_count": null,
      "metadata": {
        "tags": [],
        "id": "2v6TgnLfK8Bd"
      }
    },
    {
      "cell_type": "code",
      "source": [
        "grades.shape"
      ],
      "outputs": [],
      "execution_count": null,
      "metadata": {
        "id": "x1BmDbiQK8Bd"
      }
    },
    {
      "cell_type": "code",
      "source": [
        "grades[0]"
      ],
      "outputs": [],
      "execution_count": null,
      "metadata": {
        "id": "9LNjFT7ZK8Be"
      }
    },
    {
      "cell_type": "code",
      "source": [
        "grades.mean()"
      ],
      "outputs": [],
      "execution_count": null,
      "metadata": {
        "id": "QoOOeI3jK8Be"
      }
    },
    {
      "cell_type": "code",
      "source": [
        "# Define an array of study hours\n",
        "study_hours = [10.0,11.5,9.0,16.0,9.25,1.0,11.5,9.0,8.5,14.5,15.5,\n",
        "               13.75,9.0,8.0,15.5,8.0,9.0,6.0,10.0,12.0,12.5,12.0]\n",
        "\n",
        "# Create a 2D array (an array of arrays)\n",
        "student_data = np.array([study_hours, grades])\n",
        "\n",
        "# display the array\n",
        "student_data"
      ],
      "outputs": [],
      "execution_count": null,
      "metadata": {
        "id": "bV_KHf6rK8Be"
      }
    },
    {
      "cell_type": "code",
      "source": [
        "# Show shape of 2D array\n",
        "student_data.shape"
      ],
      "outputs": [],
      "execution_count": null,
      "metadata": {
        "id": "h_h-FxbbK8Bf"
      }
    },
    {
      "cell_type": "code",
      "source": [
        "# Show the first element of the first element\n",
        "student_data[0][0]"
      ],
      "outputs": [],
      "execution_count": null,
      "metadata": {
        "id": "s4PrrkpUK8Bf"
      }
    },
    {
      "cell_type": "code",
      "source": [
        "# Get the mean value of each sub-array\n",
        "avg_study = student_data[0].mean()\n",
        "avg_grade = student_data[1].mean()\n",
        "\n",
        "print('Average study hours: {:.2f}\\nAverage grade: {:.2f}'.format(avg_study, avg_grade))"
      ],
      "outputs": [],
      "execution_count": null,
      "metadata": {
        "tags": [],
        "id": "XR5evtUdK8Bf"
      }
    },
    {
      "cell_type": "code",
      "source": [
        "import pandas as pd\n",
        "\n",
        "df_students = pd.DataFrame({'Name': ['Dan', 'Joann', 'Pedro', 'Rosie', 'Ethan', 'Vicky', 'Frederic', 'Jimmie',\n",
        "                                     'Rhonda', 'Giovanni', 'Francesca', 'Rajab', 'Naiyana', 'Kian', 'Jenny',\n",
        "                                     'Jakeem','Helena','Ismat','Anila','Skye','Daniel','Aisha'],\n",
        "                            'StudyHours':student_data[0],\n",
        "                            'Grade':student_data[1]})\n",
        "\n",
        "df_students"
      ],
      "outputs": [],
      "execution_count": null,
      "metadata": {
        "id": "FEF0hWHpK8Bf"
      }
    },
    {
      "cell_type": "code",
      "source": [
        "# Get the data for index value 5\n",
        "df_students.loc[5]"
      ],
      "outputs": [],
      "execution_count": null,
      "metadata": {
        "tags": [],
        "id": "uY5suAjoK8Bg"
      }
    },
    {
      "cell_type": "code",
      "source": [
        "# Get the rows with index values from 0 to 5\n",
        "df_students.loc[0:5]"
      ],
      "outputs": [],
      "execution_count": null,
      "metadata": {
        "id": "m7poX0pXK8Bg"
      }
    },
    {
      "cell_type": "code",
      "source": [
        "# Get data in the first five rows\n",
        "df_students.iloc[0:5]"
      ],
      "outputs": [],
      "execution_count": null,
      "metadata": {
        "id": "NiCEBHcWK8Bg"
      }
    },
    {
      "cell_type": "code",
      "source": [
        "df_students.iloc[0,[1,2]]"
      ],
      "outputs": [],
      "execution_count": null,
      "metadata": {
        "id": "rzdvfwVoK8Bg"
      }
    },
    {
      "cell_type": "code",
      "source": [
        "df_students.loc[0,'Grade']"
      ],
      "outputs": [],
      "execution_count": null,
      "metadata": {
        "id": "4_Mr2mlBK8Bg"
      }
    },
    {
      "cell_type": "code",
      "source": [
        "df_students.loc[df_students['Name']=='Aisha']"
      ],
      "outputs": [],
      "execution_count": null,
      "metadata": {
        "id": "_oivp-aAK8Bg"
      }
    },
    {
      "cell_type": "code",
      "source": [
        "df_students[df_students['Name']=='Aisha']"
      ],
      "outputs": [],
      "execution_count": null,
      "metadata": {
        "id": "VgeJ3TLfK8Bh"
      }
    },
    {
      "cell_type": "code",
      "source": [
        "df_students.query('Name==\"Aisha\"')"
      ],
      "outputs": [],
      "execution_count": null,
      "metadata": {
        "id": "7RNG_cbjK8Bh"
      }
    },
    {
      "cell_type": "code",
      "source": [
        "df_students[df_students.Name == 'Aisha']"
      ],
      "outputs": [],
      "execution_count": null,
      "metadata": {
        "id": "tCvuwplaK8Bl"
      }
    },
    {
      "cell_type": "code",
      "source": [
        "!wget https://raw.githubusercontent.com/MicrosoftDocs/mslearn-introduction-to-machine-learning/main/Data/ml-basics/grades.csv\n",
        "df_students = pd.read_csv('grades.csv',delimiter=',',header='infer')\n",
        "df_students.head()"
      ],
      "outputs": [],
      "execution_count": null,
      "metadata": {
        "id": "BIS4hwNQK8Bl"
      }
    },
    {
      "cell_type": "code",
      "source": [
        "df_students.isnull()"
      ],
      "outputs": [],
      "execution_count": null,
      "metadata": {
        "id": "wLEPYysCK8Bm"
      }
    },
    {
      "cell_type": "code",
      "source": [
        "df_students.isnull().sum()"
      ],
      "outputs": [],
      "execution_count": null,
      "metadata": {
        "id": "ELUCSuTpK8Bm"
      }
    },
    {
      "cell_type": "code",
      "source": [
        "df_students[df_students.isnull().any(axis=1)]"
      ],
      "outputs": [],
      "execution_count": null,
      "metadata": {
        "id": "7EbglrzWK8Bm"
      }
    },
    {
      "cell_type": "code",
      "source": [
        "df_students.StudyHours = df_students.StudyHours.fillna(df_students.StudyHours.mean())\n",
        "df_students"
      ],
      "outputs": [],
      "execution_count": null,
      "metadata": {
        "id": "6X367lzSK8Bm"
      }
    },
    {
      "cell_type": "code",
      "source": [
        "df_students = df_students.dropna(axis=0, how='any')\n",
        "df_students"
      ],
      "outputs": [],
      "execution_count": null,
      "metadata": {
        "id": "YpbicgstK8Bm"
      }
    },
    {
      "cell_type": "code",
      "source": [
        "# Get the mean study hours using to column name as an index\n",
        "mean_study = df_students['StudyHours'].mean()\n",
        "\n",
        "# Get the mean grade using the column name as a property (just to make the point!)\n",
        "mean_grade = df_students.Grade.mean()\n",
        "\n",
        "# Print the mean study hours and mean grade\n",
        "print('Average weekly study hours: {:.2f}\\nAverage grade: {:.2f}'.format(mean_study, mean_grade))"
      ],
      "outputs": [],
      "execution_count": null,
      "metadata": {
        "tags": [],
        "id": "OeoTYjoVK8Bn"
      }
    },
    {
      "cell_type": "code",
      "source": [
        "# Get students who studied for the mean or more hours\n",
        "df_students[df_students.StudyHours > mean_study]"
      ],
      "outputs": [],
      "execution_count": null,
      "metadata": {
        "id": "s670N8UaK8Bn"
      }
    },
    {
      "cell_type": "code",
      "source": [
        "# What was their mean grade?\n",
        "df_students[df_students.StudyHours > mean_study].Grade.mean()"
      ],
      "outputs": [],
      "execution_count": null,
      "metadata": {
        "id": "IJSLpPQtK8Bn"
      }
    },
    {
      "cell_type": "code",
      "source": [
        "passes  = pd.Series(df_students['Grade'] >= 60)\n",
        "df_students = pd.concat([df_students, passes.rename(\"Pass\")], axis=1)\n",
        "\n",
        "df_students"
      ],
      "outputs": [],
      "execution_count": null,
      "metadata": {
        "id": "NZa_5n0BK8Bn"
      }
    },
    {
      "cell_type": "code",
      "source": [
        "print(df_students.groupby(df_students.Pass).Name.count())"
      ],
      "outputs": [],
      "execution_count": null,
      "metadata": {
        "id": "HqOvWVxJK8Bn"
      }
    },
    {
      "cell_type": "code",
      "source": [
        "print(df_students.groupby(df_students.Pass)[['StudyHours', 'Grade']].mean())"
      ],
      "outputs": [],
      "execution_count": null,
      "metadata": {
        "id": "nIVMGKOIK8Bo"
      }
    },
    {
      "cell_type": "code",
      "source": [
        "# Create a DataFrame with the data sorted by Grade (descending)\n",
        "df_students = df_students.sort_values('Grade', ascending=False)\n",
        "\n",
        "# Show the DataFrame\n",
        "df_students"
      ],
      "outputs": [],
      "execution_count": null,
      "metadata": {
        "id": "V4Mx9Y5dK8Bo"
      }
    }
  ],
  "metadata": {
    "kernel_info": {
      "name": "conda-env-azureml_py38-py"
    },
    "kernelspec": {
      "display_name": "azureml_py38",
      "language": "python",
      "name": "conda-env-azureml_py38-py"
    },
    "language_info": {
      "codemirror_mode": {
        "name": "ipython",
        "version": 3
      },
      "file_extension": ".py",
      "mimetype": "text/x-python",
      "name": "python",
      "nbconvert_exporter": "python",
      "pygments_lexer": "ipython3",
      "version": "3.7.9"
    },
    "nteract": {
      "version": "nteract-front-end@1.0.0"
    },
    "colab": {
      "provenance": [],
      "include_colab_link": true
    }
  },
  "nbformat": 4,
  "nbformat_minor": 0
}